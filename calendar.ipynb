{
 "cells": [
  {
   "cell_type": "code",
   "execution_count": 1,
   "id": "d6bea48c-3a13-4c91-8fb9-e6f2e0299a1a",
   "metadata": {},
   "outputs": [],
   "source": [
    "import pandas as pd"
   ]
  },
  {
   "cell_type": "code",
   "execution_count": 2,
   "id": "70f5652f-8ef1-4eef-ad7d-3876b8e9ef8a",
   "metadata": {},
   "outputs": [],
   "source": [
    "def is_year_leap(year):\n",
    "    if year >= 1582:\n",
    "        if year % 100 == 0:\n",
    "            if year % 400 == 0:\n",
    "                return True\n",
    "            return False\n",
    "        if year % 4 == 0:\n",
    "            return True\n",
    "    "
   ]
  },
  {
   "cell_type": "code",
   "execution_count": 3,
   "id": "77833efd",
   "metadata": {},
   "outputs": [],
   "source": [
    "def get_day(d,m,y):\n",
    "    ldays = [31,29,31,30,31,30,31,31,30,31,30,31]\n",
    "    nldays = [31,28,31,30,31,30,31,31,30,31,30,31]\n",
    "    if m > 12:\n",
    "        return None\n",
    "        \n",
    "    elif not is_year_leap(y):\n",
    "        if nldays[m-1] < d:\n",
    "            return None\n",
    "            \n",
    "    elif ldays[m-1] < d:\n",
    "            return None\n",
    "        \n",
    "    if m == 1 or m == 2:\n",
    "        m = m+12\n",
    "        y -= 1\n",
    "    \n",
    "    days = ['Saturday', 'Sunday', 'Monday', 'Tuesday', 'Wednesday', 'Thursday', 'Friday']\n",
    "\n",
    "    n = d + 2*m + (3*(m+1)//5) + y + (y//4) - (y//100) + (y//400) + 2\n",
    "    val = n%7\n",
    "    return days[val]"
   ]
  },
  {
   "cell_type": "code",
   "execution_count": 4,
   "id": "949b2023-f769-4506-9bc8-3b481ffa8183",
   "metadata": {},
   "outputs": [],
   "source": [
    "def m_calendar(m,y):\n",
    "    days = ['Sunday', 'Monday', 'Tuesday', 'Wednesday', 'Thursday', 'Friday', 'Saturday']\n",
    "    nldays = [31,28,31,30,31,30,31,31,30,31,30,31]\n",
    "    li = []\n",
    "    temp = []\n",
    "    i = 0\n",
    "    d = 1\n",
    "    mdays = 0\n",
    "    \n",
    "    if is_year_leap(y) and m == 2:\n",
    "        mdays = 29\n",
    "        \n",
    "    else:\n",
    "        mdays = nldays[m-1]\n",
    "            \n",
    "    res = get_day(d,m,y)\n",
    "    while res != days[i]:\n",
    "        temp.append(' ')\n",
    "        i+=1\n",
    "    while d<=mdays:\n",
    "        for k in range(7-i):\n",
    "            if d>mdays:\n",
    "                temp.append(' ')\n",
    "            else:\n",
    "                temp.append(d)\n",
    "                d+=1\n",
    "                i=0\n",
    "        li.append(temp)\n",
    "        temp = []\n",
    "    return li"
   ]
  },
  {
   "cell_type": "code",
   "execution_count": 5,
   "id": "a617bb17",
   "metadata": {},
   "outputs": [],
   "source": [
    "def clean_cal(df):\n",
    "    days = {0:'Sun', 1:'Mon', 2:'Tue', 3:'Wed', 4:'Thu', 5:'Fri', 6:'Sat'}\n",
    "    ind = {0:\"\", 1:\"\", 2:\"\", 3:\"\", 4:\"\", 5:\"\"}\n",
    "    df.rename(columns = days, inplace = True)\n",
    "    df.rename(index = ind, inplace = True)\n",
    "    return df"
   ]
  },
  {
   "cell_type": "code",
   "execution_count": 6,
   "id": "0c412d4d-68fc-47f3-94b6-8a8e5540f17b",
   "metadata": {},
   "outputs": [
    {
     "name": "stdout",
     "output_type": "stream",
     "text": [
      "Enter Month: 9\n",
      "Enter Year: 2023\n"
     ]
    },
    {
     "data": {
      "text/html": [
       "<div>\n",
       "<style scoped>\n",
       "    .dataframe tbody tr th:only-of-type {\n",
       "        vertical-align: middle;\n",
       "    }\n",
       "\n",
       "    .dataframe tbody tr th {\n",
       "        vertical-align: top;\n",
       "    }\n",
       "\n",
       "    .dataframe thead th {\n",
       "        text-align: right;\n",
       "    }\n",
       "</style>\n",
       "<table border=\"1\" class=\"dataframe\">\n",
       "  <thead>\n",
       "    <tr style=\"text-align: right;\">\n",
       "      <th></th>\n",
       "      <th>Sun</th>\n",
       "      <th>Mon</th>\n",
       "      <th>Tue</th>\n",
       "      <th>Wed</th>\n",
       "      <th>Thu</th>\n",
       "      <th>Fri</th>\n",
       "      <th>Sat</th>\n",
       "    </tr>\n",
       "  </thead>\n",
       "  <tbody>\n",
       "    <tr>\n",
       "      <th></th>\n",
       "      <td></td>\n",
       "      <td></td>\n",
       "      <td></td>\n",
       "      <td></td>\n",
       "      <td></td>\n",
       "      <td>1</td>\n",
       "      <td>2</td>\n",
       "    </tr>\n",
       "    <tr>\n",
       "      <th></th>\n",
       "      <td>3</td>\n",
       "      <td>4</td>\n",
       "      <td>5</td>\n",
       "      <td>6</td>\n",
       "      <td>7</td>\n",
       "      <td>8</td>\n",
       "      <td>9</td>\n",
       "    </tr>\n",
       "    <tr>\n",
       "      <th></th>\n",
       "      <td>10</td>\n",
       "      <td>11</td>\n",
       "      <td>12</td>\n",
       "      <td>13</td>\n",
       "      <td>14</td>\n",
       "      <td>15</td>\n",
       "      <td>16</td>\n",
       "    </tr>\n",
       "    <tr>\n",
       "      <th></th>\n",
       "      <td>17</td>\n",
       "      <td>18</td>\n",
       "      <td>19</td>\n",
       "      <td>20</td>\n",
       "      <td>21</td>\n",
       "      <td>22</td>\n",
       "      <td>23</td>\n",
       "    </tr>\n",
       "    <tr>\n",
       "      <th></th>\n",
       "      <td>24</td>\n",
       "      <td>25</td>\n",
       "      <td>26</td>\n",
       "      <td>27</td>\n",
       "      <td>28</td>\n",
       "      <td>29</td>\n",
       "      <td>30</td>\n",
       "    </tr>\n",
       "  </tbody>\n",
       "</table>\n",
       "</div>"
      ],
      "text/plain": [
       " Sun Mon Tue Wed Thu  Fri  Sat\n",
       "                        1    2\n",
       "   3   4   5   6   7    8    9\n",
       "  10  11  12  13  14   15   16\n",
       "  17  18  19  20  21   22   23\n",
       "  24  25  26  27  28   29   30"
      ]
     },
     "execution_count": 6,
     "metadata": {},
     "output_type": "execute_result"
    }
   ],
   "source": [
    "m = int(input(\"Enter Month: \"))\n",
    "y = int(input(\"Enter Year: \"))\n",
    "cldr = m_calendar(m,y)\n",
    "df = pd.DataFrame(cldr)\n",
    "df = clean_cal(df)\n",
    "df"
   ]
  }
 ],
 "metadata": {
  "kernelspec": {
   "display_name": "Python 3 (ipykernel)",
   "language": "python",
   "name": "python3"
  },
  "language_info": {
   "codemirror_mode": {
    "name": "ipython",
    "version": 3
   },
   "file_extension": ".py",
   "mimetype": "text/x-python",
   "name": "python",
   "nbconvert_exporter": "python",
   "pygments_lexer": "ipython3",
   "version": "3.11.4"
  },
  "widgets": {
   "application/vnd.jupyter.widget-state+json": {
    "state": {},
    "version_major": 2,
    "version_minor": 0
   }
  }
 },
 "nbformat": 4,
 "nbformat_minor": 5
}
